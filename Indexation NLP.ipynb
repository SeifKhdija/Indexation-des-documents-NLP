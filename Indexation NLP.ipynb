{
  "nbformat": 4,
  "nbformat_minor": 0,
  "metadata": {
    "colab": {
      "name": "BDMULTIMEDIATP.ipynb",
      "provenance": [],
      "collapsed_sections": [],
      "include_colab_link": true
    },
    "kernelspec": {
      "name": "python3",
      "display_name": "Python 3"
    },
    "language_info": {
      "name": "python"
    }
  },
  "cells": [
    {
      "cell_type": "markdown",
      "metadata": {
        "id": "view-in-github",
        "colab_type": "text"
      },
      "source": [
        "<a href=\"https://colab.research.google.com/github/SeifKhdija/Indexation-des-documents-NLP/blob/main/Indexation%20NLP.ipynb\" target=\"_parent\"><img src=\"https://colab.research.google.com/assets/colab-badge.svg\" alt=\"Open In Colab\"/></a>"
      ]
    },
    {
      "cell_type": "markdown",
      "source": [
        "***Installation des packages et libraries ***"
      ],
      "metadata": {
        "id": "efbGgFv5EeL6"
      }
    },
    {
      "cell_type": "code",
      "source": [
        "!pip install spacy"
      ],
      "metadata": {
        "colab": {
          "base_uri": "https://localhost:8080/"
        },
        "id": "v6TvpDq3Z_52",
        "outputId": "bb95b9e5-74a7-4704-c03b-89aa4d558575"
      },
      "execution_count": null,
      "outputs": [
        {
          "output_type": "stream",
          "name": "stdout",
          "text": [
            "Requirement already satisfied: spacy in /usr/local/lib/python3.7/dist-packages (2.2.4)\n",
            "Requirement already satisfied: requests<3.0.0,>=2.13.0 in /usr/local/lib/python3.7/dist-packages (from spacy) (2.23.0)\n",
            "Requirement already satisfied: thinc==7.4.0 in /usr/local/lib/python3.7/dist-packages (from spacy) (7.4.0)\n",
            "Requirement already satisfied: numpy>=1.15.0 in /usr/local/lib/python3.7/dist-packages (from spacy) (1.19.5)\n",
            "Requirement already satisfied: setuptools in /usr/local/lib/python3.7/dist-packages (from spacy) (57.4.0)\n",
            "Requirement already satisfied: cymem<2.1.0,>=2.0.2 in /usr/local/lib/python3.7/dist-packages (from spacy) (2.0.6)\n",
            "Requirement already satisfied: tqdm<5.0.0,>=4.38.0 in /usr/local/lib/python3.7/dist-packages (from spacy) (4.62.3)\n",
            "Requirement already satisfied: wasabi<1.1.0,>=0.4.0 in /usr/local/lib/python3.7/dist-packages (from spacy) (0.8.2)\n",
            "Requirement already satisfied: srsly<1.1.0,>=1.0.2 in /usr/local/lib/python3.7/dist-packages (from spacy) (1.0.5)\n",
            "Requirement already satisfied: plac<1.2.0,>=0.9.6 in /usr/local/lib/python3.7/dist-packages (from spacy) (1.1.3)\n",
            "Requirement already satisfied: blis<0.5.0,>=0.4.0 in /usr/local/lib/python3.7/dist-packages (from spacy) (0.4.1)\n",
            "Requirement already satisfied: preshed<3.1.0,>=3.0.2 in /usr/local/lib/python3.7/dist-packages (from spacy) (3.0.6)\n",
            "Requirement already satisfied: murmurhash<1.1.0,>=0.28.0 in /usr/local/lib/python3.7/dist-packages (from spacy) (1.0.6)\n",
            "Requirement already satisfied: catalogue<1.1.0,>=0.0.7 in /usr/local/lib/python3.7/dist-packages (from spacy) (1.0.0)\n",
            "Requirement already satisfied: importlib-metadata>=0.20 in /usr/local/lib/python3.7/dist-packages (from catalogue<1.1.0,>=0.0.7->spacy) (4.8.2)\n",
            "Requirement already satisfied: zipp>=0.5 in /usr/local/lib/python3.7/dist-packages (from importlib-metadata>=0.20->catalogue<1.1.0,>=0.0.7->spacy) (3.6.0)\n",
            "Requirement already satisfied: typing-extensions>=3.6.4 in /usr/local/lib/python3.7/dist-packages (from importlib-metadata>=0.20->catalogue<1.1.0,>=0.0.7->spacy) (3.10.0.2)\n",
            "Requirement already satisfied: certifi>=2017.4.17 in /usr/local/lib/python3.7/dist-packages (from requests<3.0.0,>=2.13.0->spacy) (2021.10.8)\n",
            "Requirement already satisfied: urllib3!=1.25.0,!=1.25.1,<1.26,>=1.21.1 in /usr/local/lib/python3.7/dist-packages (from requests<3.0.0,>=2.13.0->spacy) (1.24.3)\n",
            "Requirement already satisfied: chardet<4,>=3.0.2 in /usr/local/lib/python3.7/dist-packages (from requests<3.0.0,>=2.13.0->spacy) (3.0.4)\n",
            "Requirement already satisfied: idna<3,>=2.5 in /usr/local/lib/python3.7/dist-packages (from requests<3.0.0,>=2.13.0->spacy) (2.10)\n"
          ]
        }
      ]
    },
    {
      "cell_type": "code",
      "source": [
        "!python -m spacy download fr_core_news_sm"
      ],
      "metadata": {
        "colab": {
          "base_uri": "https://localhost:8080/"
        },
        "id": "2Z7aNtskaGR5",
        "outputId": "0aa2b423-ecd5-4c8f-e446-7cebf925f97a"
      },
      "execution_count": null,
      "outputs": [
        {
          "output_type": "stream",
          "name": "stdout",
          "text": [
            "Collecting fr_core_news_sm==2.2.5\n",
            "  Downloading https://github.com/explosion/spacy-models/releases/download/fr_core_news_sm-2.2.5/fr_core_news_sm-2.2.5.tar.gz (14.7 MB)\n",
            "\u001b[K     |████████████████████████████████| 14.7 MB 17.4 MB/s \n",
            "\u001b[?25hRequirement already satisfied: spacy>=2.2.2 in /usr/local/lib/python3.7/dist-packages (from fr_core_news_sm==2.2.5) (2.2.4)\n",
            "Requirement already satisfied: requests<3.0.0,>=2.13.0 in /usr/local/lib/python3.7/dist-packages (from spacy>=2.2.2->fr_core_news_sm==2.2.5) (2.23.0)\n",
            "Requirement already satisfied: catalogue<1.1.0,>=0.0.7 in /usr/local/lib/python3.7/dist-packages (from spacy>=2.2.2->fr_core_news_sm==2.2.5) (1.0.0)\n",
            "Requirement already satisfied: numpy>=1.15.0 in /usr/local/lib/python3.7/dist-packages (from spacy>=2.2.2->fr_core_news_sm==2.2.5) (1.19.5)\n",
            "Requirement already satisfied: setuptools in /usr/local/lib/python3.7/dist-packages (from spacy>=2.2.2->fr_core_news_sm==2.2.5) (57.4.0)\n",
            "Requirement already satisfied: plac<1.2.0,>=0.9.6 in /usr/local/lib/python3.7/dist-packages (from spacy>=2.2.2->fr_core_news_sm==2.2.5) (1.1.3)\n",
            "Requirement already satisfied: srsly<1.1.0,>=1.0.2 in /usr/local/lib/python3.7/dist-packages (from spacy>=2.2.2->fr_core_news_sm==2.2.5) (1.0.5)\n",
            "Requirement already satisfied: cymem<2.1.0,>=2.0.2 in /usr/local/lib/python3.7/dist-packages (from spacy>=2.2.2->fr_core_news_sm==2.2.5) (2.0.6)\n",
            "Requirement already satisfied: preshed<3.1.0,>=3.0.2 in /usr/local/lib/python3.7/dist-packages (from spacy>=2.2.2->fr_core_news_sm==2.2.5) (3.0.6)\n",
            "Requirement already satisfied: thinc==7.4.0 in /usr/local/lib/python3.7/dist-packages (from spacy>=2.2.2->fr_core_news_sm==2.2.5) (7.4.0)\n",
            "Requirement already satisfied: murmurhash<1.1.0,>=0.28.0 in /usr/local/lib/python3.7/dist-packages (from spacy>=2.2.2->fr_core_news_sm==2.2.5) (1.0.6)\n",
            "Requirement already satisfied: tqdm<5.0.0,>=4.38.0 in /usr/local/lib/python3.7/dist-packages (from spacy>=2.2.2->fr_core_news_sm==2.2.5) (4.62.3)\n",
            "Requirement already satisfied: wasabi<1.1.0,>=0.4.0 in /usr/local/lib/python3.7/dist-packages (from spacy>=2.2.2->fr_core_news_sm==2.2.5) (0.8.2)\n",
            "Requirement already satisfied: blis<0.5.0,>=0.4.0 in /usr/local/lib/python3.7/dist-packages (from spacy>=2.2.2->fr_core_news_sm==2.2.5) (0.4.1)\n",
            "Requirement already satisfied: importlib-metadata>=0.20 in /usr/local/lib/python3.7/dist-packages (from catalogue<1.1.0,>=0.0.7->spacy>=2.2.2->fr_core_news_sm==2.2.5) (4.8.2)\n",
            "Requirement already satisfied: zipp>=0.5 in /usr/local/lib/python3.7/dist-packages (from importlib-metadata>=0.20->catalogue<1.1.0,>=0.0.7->spacy>=2.2.2->fr_core_news_sm==2.2.5) (3.6.0)\n",
            "Requirement already satisfied: typing-extensions>=3.6.4 in /usr/local/lib/python3.7/dist-packages (from importlib-metadata>=0.20->catalogue<1.1.0,>=0.0.7->spacy>=2.2.2->fr_core_news_sm==2.2.5) (3.10.0.2)\n",
            "Requirement already satisfied: idna<3,>=2.5 in /usr/local/lib/python3.7/dist-packages (from requests<3.0.0,>=2.13.0->spacy>=2.2.2->fr_core_news_sm==2.2.5) (2.10)\n",
            "Requirement already satisfied: certifi>=2017.4.17 in /usr/local/lib/python3.7/dist-packages (from requests<3.0.0,>=2.13.0->spacy>=2.2.2->fr_core_news_sm==2.2.5) (2021.10.8)\n",
            "Requirement already satisfied: urllib3!=1.25.0,!=1.25.1,<1.26,>=1.21.1 in /usr/local/lib/python3.7/dist-packages (from requests<3.0.0,>=2.13.0->spacy>=2.2.2->fr_core_news_sm==2.2.5) (1.24.3)\n",
            "Requirement already satisfied: chardet<4,>=3.0.2 in /usr/local/lib/python3.7/dist-packages (from requests<3.0.0,>=2.13.0->spacy>=2.2.2->fr_core_news_sm==2.2.5) (3.0.4)\n",
            "Building wheels for collected packages: fr-core-news-sm\n",
            "  Building wheel for fr-core-news-sm (setup.py) ... \u001b[?25l\u001b[?25hdone\n",
            "  Created wheel for fr-core-news-sm: filename=fr_core_news_sm-2.2.5-py3-none-any.whl size=14727026 sha256=732789b24f6188660e7e452712209f5dbdb3e14e86bd8ad0b92d6b5d681c7c8e\n",
            "  Stored in directory: /tmp/pip-ephem-wheel-cache-ldfbk41x/wheels/c9/a6/ea/0778337c34660027ee67ef3a91fb9d3600b76777a912ea1c24\n",
            "Successfully built fr-core-news-sm\n",
            "Installing collected packages: fr-core-news-sm\n",
            "Successfully installed fr-core-news-sm-2.2.5\n",
            "\u001b[38;5;2m✔ Download and installation successful\u001b[0m\n",
            "You can now load the model via spacy.load('fr_core_news_sm')\n"
          ]
        }
      ]
    },
    {
      "cell_type": "code",
      "source": [
        "import spacy\n",
        "import fr_core_news_sm\n",
        "nlp=fr_core_news_sm.load()\n"
      ],
      "metadata": {
        "id": "cDWUdZ-WaKad"
      },
      "execution_count": null,
      "outputs": []
    },
    {
      "cell_type": "markdown",
      "source": [
        "**Creation des documents**"
      ],
      "metadata": {
        "id": "CopnKVZFExPT"
      }
    },
    {
      "cell_type": "code",
      "execution_count": null,
      "metadata": {
        "id": "3TDZpnLAZCU4"
      },
      "outputs": [],
      "source": [
        "A = \"Le loup est dans la bergerie\"\n",
        "B = \"Les moutons sont dans la bergerie\"\n",
        "C = \"Un loup a mangé un mouton et les autres loups sont restés dans la bergerie\"\n",
        "D = \"il y a trois moutons dans le pré, et un mouton dans la gueule du loup\""
      ]
    },
    {
      "cell_type": "markdown",
      "source": [
        "**TOKENISATION**"
      ],
      "metadata": {
        "id": "InDpiBXAFF4F"
      }
    },
    {
      "cell_type": "code",
      "source": [
        "def token(doc):\n",
        "    d = nlp(doc)\n",
        "    return [X.text for X in d]\n",
        "\n",
        "A = token(A)\n",
        "B = token(B)\n",
        "C = token(C)\n",
        "D = token(D)\n",
        "\n",
        "print(A)\n",
        "print(B)\n",
        "print(C)\n",
        "print(D)"
      ],
      "metadata": {
        "id": "43smt2-WZu8e",
        "colab": {
          "base_uri": "https://localhost:8080/"
        },
        "outputId": "f0887c25-293c-436a-b41d-b127357f174e"
      },
      "execution_count": null,
      "outputs": [
        {
          "output_type": "stream",
          "name": "stdout",
          "text": [
            "['Le', 'loup', 'est', 'dans', 'la', 'bergerie']\n",
            "['Les', 'moutons', 'sont', 'dans', 'la', 'bergerie']\n",
            "['Un', 'loup', 'a', 'mangé', 'un', 'mouton', 'et', 'les', 'autres', 'loups', 'sont', 'restés', 'dans', 'la', 'bergerie']\n",
            "['il', 'y', 'a', 'trois', 'moutons', 'dans', 'le', 'pré', ',', 'et', 'un', 'mouton', 'dans', 'la', 'gueule', 'du', 'loup']\n"
          ]
        }
      ]
    },
    {
      "cell_type": "markdown",
      "source": [
        "**Normalisation textuelle( ponctuation et casse)**"
      ],
      "metadata": {
        "id": "L1-yN0m7FbdR"
      }
    },
    {
      "cell_type": "code",
      "source": [
        "A=[word.lower() for word in A if word.isalpha() ]\n",
        "B=[word.lower() for word in B if word.isalpha()]\n",
        "C=[word.lower() for word in C if word.isalpha()]\n",
        "D=[word.lower() for word in D if word.isalpha()]\n",
        "\n",
        "print(A)\n",
        "print(B)\n",
        "print(C)\n",
        "print(D)"
      ],
      "metadata": {
        "colab": {
          "base_uri": "https://localhost:8080/"
        },
        "id": "g_fW6PrgA0kb",
        "outputId": "06591e8a-a294-48f9-b347-9b4786c78fa7"
      },
      "execution_count": null,
      "outputs": [
        {
          "output_type": "stream",
          "name": "stdout",
          "text": [
            "['le', 'loup', 'est', 'dans', 'la', 'bergerie']\n",
            "['les', 'moutons', 'sont', 'dans', 'la', 'bergerie']\n",
            "['un', 'loup', 'a', 'mangé', 'un', 'mouton', 'et', 'les', 'autres', 'loups', 'sont', 'restés', 'dans', 'la', 'bergerie']\n",
            "['il', 'y', 'a', 'trois', 'moutons', 'dans', 'le', 'pré', 'et', 'un', 'mouton', 'dans', 'la', 'gueule', 'du', 'loup']\n"
          ]
        }
      ]
    },
    {
      "cell_type": "markdown",
      "source": [
        "**Enlever les STOPWORDS**"
      ],
      "metadata": {
        "id": "ykFMuIZEGluH"
      }
    },
    {
      "cell_type": "code",
      "source": [
        "import nltk\n",
        "nltk.download('stopwords')\n",
        "from nltk.corpus import stopwords\n",
        "stopWords = set(stopwords.words('french'))"
      ],
      "metadata": {
        "colab": {
          "base_uri": "https://localhost:8080/"
        },
        "id": "5BwGRonug28K",
        "outputId": "4c429233-43e5-499f-bc7e-679a25373074"
      },
      "execution_count": null,
      "outputs": [
        {
          "output_type": "stream",
          "name": "stdout",
          "text": [
            "[nltk_data] Downloading package stopwords to /root/nltk_data...\n",
            "[nltk_data]   Unzipping corpora/stopwords.zip.\n"
          ]
        }
      ]
    },
    {
      "cell_type": "code",
      "source": [
        "def enlever_stopwords(words):\n",
        "  clean_words = []\n",
        "  for token in words:\n",
        "    if token not in stopWords and token not in ['a','ai','as','avons','avez','ont']:\n",
        "        clean_words.append(token)\n",
        "  return clean_words\n",
        "\n",
        "A = enlever_stopwords(A)\n",
        "B = enlever_stopwords(B)\n",
        "C = enlever_stopwords(C)\n",
        "D = enlever_stopwords(D)\n",
        "\n",
        "print(A)\n",
        "print(B)\n",
        "print(C)\n",
        "print(D)\n",
        "\n"
      ],
      "metadata": {
        "colab": {
          "base_uri": "https://localhost:8080/"
        },
        "id": "-pS05PAchfC0",
        "outputId": "334ce7fd-8a14-456c-dcaa-0cdf21b7cc83"
      },
      "execution_count": null,
      "outputs": [
        {
          "output_type": "stream",
          "name": "stdout",
          "text": [
            "['loup', 'bergerie']\n",
            "['moutons', 'bergerie']\n",
            "['loup', 'mangé', 'mouton', 'autres', 'loups', 'restés', 'bergerie']\n",
            "['trois', 'moutons', 'pré', 'mouton', 'gueule', 'loup']\n"
          ]
        }
      ]
    },
    {
      "cell_type": "markdown",
      "source": [
        "**STEMMATION**"
      ],
      "metadata": {
        "id": "6Kri4VDqHBGY"
      }
    },
    {
      "cell_type": "code",
      "source": [
        "from nltk.stem.snowball import SnowballStemmer\n",
        "stemmer = SnowballStemmer(language='french')\n",
        "\n",
        "def return_stem(sentence):\n",
        "    return [stemmer.stem(X) for X in sentence]\n",
        "A = return_stem(A)\n",
        "B = return_stem(B)\n",
        "C = return_stem(C)\n",
        "D = return_stem(D)\n",
        "\n",
        "print(A)\n",
        "print(B)\n",
        "print(C)\n",
        "print(D)"
      ],
      "metadata": {
        "colab": {
          "base_uri": "https://localhost:8080/"
        },
        "id": "-U86R4QLg_S0",
        "outputId": "73ee5f2c-ded3-4eea-a418-9b01ae81c1cb"
      },
      "execution_count": null,
      "outputs": [
        {
          "output_type": "stream",
          "name": "stdout",
          "text": [
            "['loup', 'berger']\n",
            "['mouton', 'berger']\n",
            "['loup', 'mang', 'mouton', 'autr', 'loup', 'rest', 'berger']\n",
            "['trois', 'mouton', 'pré', 'mouton', 'gueul', 'loup']\n"
          ]
        }
      ]
    },
    {
      "cell_type": "markdown",
      "source": [
        "**Term frequency d'un mot donné (TF)**"
      ],
      "metadata": {
        "id": "U1G2GxIiHGdx"
      }
    },
    {
      "cell_type": "code",
      "source": [
        "from collections import Counter\n",
        "def term_frequency(document, mot):\n",
        "      stemmot = stemmer.stem(mot)\n",
        "      word_freq = Counter(document)\n",
        "      for word,freq in word_freq.items():\n",
        "       if(word == stemmot):\n",
        "         print('Occurence: ',freq)\n",
        "\n",
        "def tf(mot):\n",
        "  print('mot :',mot)\n",
        "  print('-------------------------')\n",
        "  print('Document A')\n",
        "  term_frequency(A,mot)\n",
        "  print('-------------------------')\n",
        "  print('Document B')\n",
        "  term_frequency(B,mot)\n",
        "  print('-------------------------')\n",
        "  print('Document C')\n",
        "  term_frequency(C,mot)\n",
        "  print('-------------------------')\n",
        "  print('Document D')\n",
        "  term_frequency(D,mot)"
      ],
      "metadata": {
        "id": "OrR06592bfYY"
      },
      "execution_count": null,
      "outputs": []
    },
    {
      "cell_type": "markdown",
      "source": [
        "**Quelques exemples:**"
      ],
      "metadata": {
        "id": "Y0YHijJEH4aW"
      }
    },
    {
      "cell_type": "code",
      "source": [
        "tf('loup')"
      ],
      "metadata": {
        "colab": {
          "base_uri": "https://localhost:8080/"
        },
        "id": "eVF9Z21Gc2-v",
        "outputId": "9c5f5877-5683-466b-c02f-80f765b46b56"
      },
      "execution_count": null,
      "outputs": [
        {
          "output_type": "stream",
          "name": "stdout",
          "text": [
            "mot : loup\n",
            "-------------------------\n",
            "Document A\n",
            "Occurence:  1\n",
            "-------------------------\n",
            "Document B\n",
            "-------------------------\n",
            "Document C\n",
            "Occurence:  2\n",
            "-------------------------\n",
            "Document D\n",
            "Occurence:  1\n"
          ]
        }
      ]
    },
    {
      "cell_type": "code",
      "source": [
        "tf('bergerie')"
      ],
      "metadata": {
        "colab": {
          "base_uri": "https://localhost:8080/"
        },
        "id": "_nv9HuofICUF",
        "outputId": "8bfa9fea-d67e-413f-e9c3-cf588a5a11ae"
      },
      "execution_count": null,
      "outputs": [
        {
          "output_type": "stream",
          "name": "stdout",
          "text": [
            "mot : bergerie\n",
            "-------------------------\n",
            "Document A\n",
            "Occurence:  1\n",
            "-------------------------\n",
            "Document B\n",
            "Occurence:  1\n",
            "-------------------------\n",
            "Document C\n",
            "Occurence:  1\n",
            "-------------------------\n",
            "Document D\n"
          ]
        }
      ]
    },
    {
      "cell_type": "code",
      "source": [
        "tf('mouton')"
      ],
      "metadata": {
        "colab": {
          "base_uri": "https://localhost:8080/"
        },
        "id": "GAXp71p7IYK8",
        "outputId": "f27335c9-7c4a-4e50-a1e8-e0aac94ce5cd"
      },
      "execution_count": null,
      "outputs": [
        {
          "output_type": "stream",
          "name": "stdout",
          "text": [
            "mot : mouton\n",
            "-------------------------\n",
            "Document A\n",
            "-------------------------\n",
            "Document B\n",
            "Occurence:  1\n",
            "-------------------------\n",
            "Document C\n",
            "Occurence:  1\n",
            "-------------------------\n",
            "Document D\n",
            "Occurence:  2\n"
          ]
        }
      ]
    },
    {
      "cell_type": "markdown",
      "source": [
        "**IDF d'un mot donné**"
      ],
      "metadata": {
        "id": "quajdcExIdou"
      }
    },
    {
      "cell_type": "code",
      "source": [
        "import math\n",
        "\n",
        "documents =[]\n",
        "documents.append(A)\n",
        "documents.append(B)\n",
        "documents.append(C)\n",
        "documents.append(D)\n",
        "\n",
        "def idf(mot):\n",
        "  stemmot = stemmer.stem(mot)\n",
        "  common_list=[]\n",
        "  i =0\n",
        "  for document in documents:\n",
        "    common_list.append(Counter(document))\n",
        "  for common in common_list:\n",
        "    for word,freq in common.items():\n",
        "       if(word == stemmot):\n",
        "         i= i+1\n",
        "  if i == 0:\n",
        "    return \"mot n'existe pas dans le corpus\"\n",
        "  else:\n",
        "    return math.log(len(documents)/i)\n"
      ],
      "metadata": {
        "id": "BIiCccvWc4PF"
      },
      "execution_count": null,
      "outputs": []
    },
    {
      "cell_type": "markdown",
      "source": [
        "**Quelques exemple:**"
      ],
      "metadata": {
        "id": "gOz_YoILIvua"
      }
    },
    {
      "cell_type": "code",
      "source": [
        "idf('pré')"
      ],
      "metadata": {
        "colab": {
          "base_uri": "https://localhost:8080/"
        },
        "id": "8zFOMQ9AdHI1",
        "outputId": "ca15563d-7645-4f40-ec1d-48cb24280f00"
      },
      "execution_count": null,
      "outputs": [
        {
          "output_type": "execute_result",
          "data": {
            "text/plain": [
              "1.3862943611198906"
            ]
          },
          "metadata": {},
          "execution_count": 16
        }
      ]
    },
    {
      "cell_type": "code",
      "source": [
        "idf('loup')"
      ],
      "metadata": {
        "colab": {
          "base_uri": "https://localhost:8080/"
        },
        "id": "Kr7chi73dJ1M",
        "outputId": "869c3195-c9b3-42fc-da83-9ec2ae43cf7f"
      },
      "execution_count": null,
      "outputs": [
        {
          "output_type": "execute_result",
          "data": {
            "text/plain": [
              "0.28768207245178085"
            ]
          },
          "metadata": {},
          "execution_count": 17
        }
      ]
    },
    {
      "cell_type": "markdown",
      "source": [
        "**Matrice d’incidence**"
      ],
      "metadata": {
        "id": "OdFUsAzrI2PY"
      }
    },
    {
      "cell_type": "code",
      "source": [
        "import pandas as pd\n",
        "\n",
        "words = set(A).union(set(B) ).union(set(C) ).union(set(D) )\n",
        "\n",
        "numOfWordsA = dict.fromkeys(words, 0)\n",
        "for word in A:\n",
        "    numOfWordsA[word] += 1\n",
        "numOfWordsB = dict.fromkeys(words, 0)\n",
        "for word in B:\n",
        "    numOfWordsB[word] += 1\n",
        "numOfWordsC = dict.fromkeys(words, 0)\n",
        "for word in C:\n",
        "    numOfWordsC[word] += 1\n",
        "numOfWordsD = dict.fromkeys(words, 0)\n",
        "for word in D:\n",
        "    numOfWordsD[word] += 1 \n",
        "\n",
        "def matrice(wordDict, bagOfWords):\n",
        "    tfDict = {}\n",
        "    bagOfWordsCount = len(bagOfWords)\n",
        "    for word, count in wordDict.items():\n",
        "        tfDict[word] = count \n",
        "    return tfDict\n",
        "\n",
        "tfA = matrice(numOfWordsA, A)\n",
        "tfB = matrice(numOfWordsB, B)\n",
        "tfC = matrice(numOfWordsC, C)\n",
        "tfD = matrice(numOfWordsD, D)\n",
        "tfglobal = pd.DataFrame([tfA, tfB,tfC, tfD ],index=['A','B','C','D'])\n",
        "tfglobal"
      ],
      "metadata": {
        "colab": {
          "base_uri": "https://localhost:8080/",
          "height": 175
        },
        "id": "NiG1kMFwdSeO",
        "outputId": "1ebd74f8-4412-4600-e8c7-24decd79014e"
      },
      "execution_count": null,
      "outputs": [
        {
          "output_type": "execute_result",
          "data": {
            "text/html": [
              "\n",
              "  <div id=\"df-90274066-632c-458c-aca7-22c4ced2a267\">\n",
              "    <div class=\"colab-df-container\">\n",
              "      <div>\n",
              "<style scoped>\n",
              "    .dataframe tbody tr th:only-of-type {\n",
              "        vertical-align: middle;\n",
              "    }\n",
              "\n",
              "    .dataframe tbody tr th {\n",
              "        vertical-align: top;\n",
              "    }\n",
              "\n",
              "    .dataframe thead th {\n",
              "        text-align: right;\n",
              "    }\n",
              "</style>\n",
              "<table border=\"1\" class=\"dataframe\">\n",
              "  <thead>\n",
              "    <tr style=\"text-align: right;\">\n",
              "      <th></th>\n",
              "      <th>gueul</th>\n",
              "      <th>mang</th>\n",
              "      <th>berger</th>\n",
              "      <th>pré</th>\n",
              "      <th>loup</th>\n",
              "      <th>autr</th>\n",
              "      <th>rest</th>\n",
              "      <th>trois</th>\n",
              "      <th>mouton</th>\n",
              "    </tr>\n",
              "  </thead>\n",
              "  <tbody>\n",
              "    <tr>\n",
              "      <th>A</th>\n",
              "      <td>0</td>\n",
              "      <td>0</td>\n",
              "      <td>1</td>\n",
              "      <td>0</td>\n",
              "      <td>1</td>\n",
              "      <td>0</td>\n",
              "      <td>0</td>\n",
              "      <td>0</td>\n",
              "      <td>0</td>\n",
              "    </tr>\n",
              "    <tr>\n",
              "      <th>B</th>\n",
              "      <td>0</td>\n",
              "      <td>0</td>\n",
              "      <td>1</td>\n",
              "      <td>0</td>\n",
              "      <td>0</td>\n",
              "      <td>0</td>\n",
              "      <td>0</td>\n",
              "      <td>0</td>\n",
              "      <td>1</td>\n",
              "    </tr>\n",
              "    <tr>\n",
              "      <th>C</th>\n",
              "      <td>0</td>\n",
              "      <td>1</td>\n",
              "      <td>1</td>\n",
              "      <td>0</td>\n",
              "      <td>2</td>\n",
              "      <td>1</td>\n",
              "      <td>1</td>\n",
              "      <td>0</td>\n",
              "      <td>1</td>\n",
              "    </tr>\n",
              "    <tr>\n",
              "      <th>D</th>\n",
              "      <td>1</td>\n",
              "      <td>0</td>\n",
              "      <td>0</td>\n",
              "      <td>1</td>\n",
              "      <td>1</td>\n",
              "      <td>0</td>\n",
              "      <td>0</td>\n",
              "      <td>1</td>\n",
              "      <td>2</td>\n",
              "    </tr>\n",
              "  </tbody>\n",
              "</table>\n",
              "</div>\n",
              "      <button class=\"colab-df-convert\" onclick=\"convertToInteractive('df-90274066-632c-458c-aca7-22c4ced2a267')\"\n",
              "              title=\"Convert this dataframe to an interactive table.\"\n",
              "              style=\"display:none;\">\n",
              "        \n",
              "  <svg xmlns=\"http://www.w3.org/2000/svg\" height=\"24px\"viewBox=\"0 0 24 24\"\n",
              "       width=\"24px\">\n",
              "    <path d=\"M0 0h24v24H0V0z\" fill=\"none\"/>\n",
              "    <path d=\"M18.56 5.44l.94 2.06.94-2.06 2.06-.94-2.06-.94-.94-2.06-.94 2.06-2.06.94zm-11 1L8.5 8.5l.94-2.06 2.06-.94-2.06-.94L8.5 2.5l-.94 2.06-2.06.94zm10 10l.94 2.06.94-2.06 2.06-.94-2.06-.94-.94-2.06-.94 2.06-2.06.94z\"/><path d=\"M17.41 7.96l-1.37-1.37c-.4-.4-.92-.59-1.43-.59-.52 0-1.04.2-1.43.59L10.3 9.45l-7.72 7.72c-.78.78-.78 2.05 0 2.83L4 21.41c.39.39.9.59 1.41.59.51 0 1.02-.2 1.41-.59l7.78-7.78 2.81-2.81c.8-.78.8-2.07 0-2.86zM5.41 20L4 18.59l7.72-7.72 1.47 1.35L5.41 20z\"/>\n",
              "  </svg>\n",
              "      </button>\n",
              "      \n",
              "  <style>\n",
              "    .colab-df-container {\n",
              "      display:flex;\n",
              "      flex-wrap:wrap;\n",
              "      gap: 12px;\n",
              "    }\n",
              "\n",
              "    .colab-df-convert {\n",
              "      background-color: #E8F0FE;\n",
              "      border: none;\n",
              "      border-radius: 50%;\n",
              "      cursor: pointer;\n",
              "      display: none;\n",
              "      fill: #1967D2;\n",
              "      height: 32px;\n",
              "      padding: 0 0 0 0;\n",
              "      width: 32px;\n",
              "    }\n",
              "\n",
              "    .colab-df-convert:hover {\n",
              "      background-color: #E2EBFA;\n",
              "      box-shadow: 0px 1px 2px rgba(60, 64, 67, 0.3), 0px 1px 3px 1px rgba(60, 64, 67, 0.15);\n",
              "      fill: #174EA6;\n",
              "    }\n",
              "\n",
              "    [theme=dark] .colab-df-convert {\n",
              "      background-color: #3B4455;\n",
              "      fill: #D2E3FC;\n",
              "    }\n",
              "\n",
              "    [theme=dark] .colab-df-convert:hover {\n",
              "      background-color: #434B5C;\n",
              "      box-shadow: 0px 1px 3px 1px rgba(0, 0, 0, 0.15);\n",
              "      filter: drop-shadow(0px 1px 2px rgba(0, 0, 0, 0.3));\n",
              "      fill: #FFFFFF;\n",
              "    }\n",
              "  </style>\n",
              "\n",
              "      <script>\n",
              "        const buttonEl =\n",
              "          document.querySelector('#df-90274066-632c-458c-aca7-22c4ced2a267 button.colab-df-convert');\n",
              "        buttonEl.style.display =\n",
              "          google.colab.kernel.accessAllowed ? 'block' : 'none';\n",
              "\n",
              "        async function convertToInteractive(key) {\n",
              "          const element = document.querySelector('#df-90274066-632c-458c-aca7-22c4ced2a267');\n",
              "          const dataTable =\n",
              "            await google.colab.kernel.invokeFunction('convertToInteractive',\n",
              "                                                     [key], {});\n",
              "          if (!dataTable) return;\n",
              "\n",
              "          const docLinkHtml = 'Like what you see? Visit the ' +\n",
              "            '<a target=\"_blank\" href=https://colab.research.google.com/notebooks/data_table.ipynb>data table notebook</a>'\n",
              "            + ' to learn more about interactive tables.';\n",
              "          element.innerHTML = '';\n",
              "          dataTable['output_type'] = 'display_data';\n",
              "          await google.colab.output.renderOutput(dataTable, element);\n",
              "          const docLink = document.createElement('div');\n",
              "          docLink.innerHTML = docLinkHtml;\n",
              "          element.appendChild(docLink);\n",
              "        }\n",
              "      </script>\n",
              "    </div>\n",
              "  </div>\n",
              "  "
            ],
            "text/plain": [
              "   gueul  mang  berger  pré  loup  autr  rest  trois  mouton\n",
              "A      0     0       1    0     1     0     0      0       0\n",
              "B      0     0       1    0     0     0     0      0       1\n",
              "C      0     1       1    0     2     1     1      0       1\n",
              "D      1     0       0    1     1     0     0      1       2"
            ]
          },
          "metadata": {},
          "execution_count": 18
        }
      ]
    },
    {
      "cell_type": "code",
      "source": [
        ""
      ],
      "metadata": {
        "id": "v7UzzuyodfYd"
      },
      "execution_count": null,
      "outputs": []
    }
  ]
}